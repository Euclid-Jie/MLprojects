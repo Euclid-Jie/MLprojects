{
 "cells": [
  {
   "cell_type": "code",
   "execution_count": 35,
   "metadata": {
    "collapsed": true
   },
   "outputs": [],
   "source": [
    "import pandas as pd"
   ]
  },
  {
   "cell_type": "code",
   "execution_count": 36,
   "outputs": [],
   "source": [
    "df = pd.read_csv(r'.\\KnowledgeModelingData.csv',header=None, names=['STG','SCG','STR','LPR','PEG','UNS']) #原始数据无表头，故加上表头"
   ],
   "metadata": {
    "collapsed": false,
    "pycharm": {
     "name": "#%%\n"
    }
   }
  },
  {
   "cell_type": "code",
   "execution_count": 37,
   "outputs": [],
   "source": [
    "from sklearn.cluster import KMeans #调用库中的K-Means算法\n",
    "from sklearn.model_selection import train_test_split #调用分割数据集方法\n",
    "from sklearn.metrics import fowlkes_mallows_score #用于评价模型结果"
   ],
   "metadata": {
    "collapsed": false,
    "pycharm": {
     "name": "#%%\n"
    }
   }
  },
  {
   "cell_type": "markdown",
   "source": [
    "## 30%作为测试集，70%作为训练集，剔除掉测试集中的属性值UNS,利用K-means算法，对测试集中的数据进行聚类分析"
   ],
   "metadata": {
    "collapsed": false,
    "pycharm": {
     "name": "#%% md\n"
    }
   }
  },
  {
   "cell_type": "code",
   "execution_count": 38,
   "outputs": [],
   "source": [
    "#分割训练集和测试集,使用随机种子分割比例为7:3\n",
    "x_train,x_test,y_trian,y_test = train_test_split(df.drop(columns=['UNS']),df['UNS'],test_size = 0.3,train_size = 0.7,random_state=1)"
   ],
   "metadata": {
    "collapsed": false,
    "pycharm": {
     "name": "#%%\n"
    }
   }
  },
  {
   "cell_type": "code",
   "execution_count": 39,
   "outputs": [
    {
     "name": "stdout",
     "output_type": "stream",
     "text": [
      "模型在训练集上分类准确度为0.408634\n",
      "模型在测试集上分类准确度为0.368820\n"
     ]
    }
   ],
   "source": [
    "#使用模型进行训练，预测\n",
    "model = KMeans(n_clusters=4, max_iter=100) #初始化模型，设置四个聚类中心\n",
    "model.fit(x_train) #使用训练集训练模型\n",
    "print('模型在训练集上分类准确度为%f'%fowlkes_mallows_score(y_trian, model.labels_))\n",
    "y_predict = model.predict(x_test) #使用模型预测\n",
    "print('模型在测试集上分类准确度为%f'%fowlkes_mallows_score(y_test, y_predict))"
   ],
   "metadata": {
    "collapsed": false,
    "pycharm": {
     "name": "#%%\n"
    }
   }
  },
  {
   "cell_type": "markdown",
   "source": [
    "## 删除STG属性后再次利用K-means算法，进行聚类分析"
   ],
   "metadata": {
    "collapsed": false,
    "pycharm": {
     "name": "#%% md\n"
    }
   }
  },
  {
   "cell_type": "code",
   "execution_count": 40,
   "outputs": [],
   "source": [
    "#分割训练集和测试集,使用随机种子分割比例为7:3\n",
    "x_train,x_test,y_trian,y_test = train_test_split(df.drop(columns=['UNS','STG']),df['UNS'],test_size = 0.3,train_size = 0.7,random_state=1)"
   ],
   "metadata": {
    "collapsed": false,
    "pycharm": {
     "name": "#%%\n"
    }
   }
  },
  {
   "cell_type": "code",
   "execution_count": 41,
   "outputs": [
    {
     "name": "stdout",
     "output_type": "stream",
     "text": [
      "模型在训练集上分类准确度为0.407801\n",
      "模型在测试集上分类准确度为0.389107\n"
     ]
    }
   ],
   "source": [
    "#使用模型进行训练，预测\n",
    "model = KMeans(n_clusters=4, max_iter=100) #初始化模型，设置四个聚类中心\n",
    "model.fit(x_train) #使用训练集训练模型\n",
    "print('模型在训练集上分类准确度为%f'%fowlkes_mallows_score(y_trian, model.labels_))\n",
    "y_predict = model.predict(x_test) #使用模型预测\n",
    "print('模型在测试集上分类准确度为%f'%fowlkes_mallows_score(y_test, y_predict))"
   ],
   "metadata": {
    "collapsed": false,
    "pycharm": {
     "name": "#%%\n"
    }
   }
  }
 ],
 "metadata": {
  "kernelspec": {
   "display_name": "Python 3",
   "language": "python",
   "name": "python3"
  },
  "language_info": {
   "codemirror_mode": {
    "name": "ipython",
    "version": 2
   },
   "file_extension": ".py",
   "mimetype": "text/x-python",
   "name": "python",
   "nbconvert_exporter": "python",
   "pygments_lexer": "ipython2",
   "version": "2.7.6"
  }
 },
 "nbformat": 4,
 "nbformat_minor": 0
}